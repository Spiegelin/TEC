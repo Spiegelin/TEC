{
 "cells": [
  {
   "cell_type": "markdown",
   "id": "373ec7f5",
   "metadata": {},
   "source": [
    "# Ejercicio\n",
    "\n",
    "Programa las siguientes funciones para realizar operaciones en la base de datos 'compañía'."
   ]
  },
  {
   "cell_type": "code",
   "execution_count": 1,
   "id": "b508ba2a",
   "metadata": {},
   "outputs": [],
   "source": [
    "# Importar libería requerida.\n",
    "import pymysql.cursors"
   ]
  },
  {
   "cell_type": "code",
   "execution_count": 2,
   "id": "a5b34587",
   "metadata": {},
   "outputs": [],
   "source": [
    "def buscarEmpleado(id):\n",
    "    # id: id del empleado.\n",
    "    # regresa un dict con todas las columnas del empleado encontrado.\n",
    "    # si el id de empleado no existe, regresa el texto \"El empleado no existe.\"\n",
    "    \n",
    "    # TU CÓDIGO AQUÍ.\n",
    "    \n",
    "    connection = pymysql.connect(host='localhost',\n",
    "                             user='root',\n",
    "                             password='',\n",
    "                             database='compania503',\n",
    "                             cursorclass=pymysql.cursors.DictCursor)\n",
    "    \n",
    "   \n",
    "    \n",
    "    # No olvides cerrar la conexión cuando ya no se necesite con: connection.close()\n",
    "    "
   ]
  },
  {
   "cell_type": "code",
   "execution_count": 3,
   "id": "2a691294",
   "metadata": {},
   "outputs": [
    {
     "name": "stdout",
     "output_type": "stream",
     "text": [
      "{'idEmpleado': 1, 'nombre': 'Guillermo', 'edad': 19, 'telefono': '+52 00000'}\n"
     ]
    }
   ],
   "source": [
    "# Ejemplo de uso de función.\n",
    "buscarEmpleado(1)"
   ]
  },
  {
   "cell_type": "code",
   "execution_count": 6,
   "id": "94beafff",
   "metadata": {},
   "outputs": [],
   "source": [
    "def buscarConyuge(id):\n",
    "    # id: id del empleado.\n",
    "    # regresa un dict con el nombre del conyuge.\n",
    "    # Si el empleado no está casado regresa el texto \"Soltero\".\n",
    "    # si el id de empleado no existe, regresa el texto \"El empleado no existe.\"\n",
    "    \n",
    "    # TU CÓDIGO AQUÍ.\n",
    "    \n",
    "    \n",
    "            \n",
    "    # No olvides cerrar la conexión cuando ya no se necesite con: connection.close()\n",
    "    "
   ]
  },
  {
   "cell_type": "code",
   "execution_count": 8,
   "id": "52124ee5",
   "metadata": {},
   "outputs": [
    {
     "data": {
      "text/plain": [
       "{'nombre': 'Julieta'}"
      ]
     },
     "execution_count": 8,
     "metadata": {},
     "output_type": "execute_result"
    }
   ],
   "source": [
    "# Ejemplo de uso.\n",
    "buscarConyuge(1)"
   ]
  },
  {
   "cell_type": "code",
   "execution_count": 9,
   "id": "9b9ad070",
   "metadata": {},
   "outputs": [],
   "source": [
    "def agregaConyuge(id, nombre, edad):\n",
    "    # id: id del empleado con quién está casado.\n",
    "    # nombre: nombre del conyuge a agregar.\n",
    "    # edad: edad del conyuge a agregar.\n",
    "    # regresa True si la operación fue exitosa.\n",
    "    # si el id de empleado no existe, regresa el texto \"El empleado no existe.\"\n",
    "    \n",
    "    # TU CÓDIGO AQUÍ.\n",
    "    \n",
    "    \n",
    "\n",
    "            \n",
    "    # Cerrar conexión.\n",
    "    "
   ]
  },
  {
   "cell_type": "code",
   "execution_count": 10,
   "id": "9708235e",
   "metadata": {},
   "outputs": [
    {
     "data": {
      "text/plain": [
       "True"
      ]
     },
     "execution_count": 10,
     "metadata": {},
     "output_type": "execute_result"
    }
   ],
   "source": [
    "# Ejemplo de uso.\n",
    "agregaConyuge(2, \"Martha H.\", 34)"
   ]
  },
  {
   "cell_type": "code",
   "execution_count": null,
   "id": "8b37b755",
   "metadata": {},
   "outputs": [],
   "source": []
  }
 ],
 "metadata": {
  "kernelspec": {
   "display_name": "Python 3 (ipykernel)",
   "language": "python",
   "name": "python3"
  },
  "language_info": {
   "codemirror_mode": {
    "name": "ipython",
    "version": 3
   },
   "file_extension": ".py",
   "mimetype": "text/x-python",
   "name": "python",
   "nbconvert_exporter": "python",
   "pygments_lexer": "ipython3",
   "version": "3.11.3"
  }
 },
 "nbformat": 4,
 "nbformat_minor": 5
}
